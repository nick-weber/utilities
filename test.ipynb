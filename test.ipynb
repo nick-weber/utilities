{
 "cells": [
  {
   "cell_type": "code",
   "execution_count": 2,
   "metadata": {
    "collapsed": true
   },
   "outputs": [
    {
     "name": "stdout",
     "output_type": "stream",
     "text": [
      "3\n"
     ]
    },
    {
     "name": "stdout",
     "output_type": "stream",
     "text": [
      "2\n"
     ]
    },
    {
     "name": "stdout",
     "output_type": "stream",
     "text": [
      "1\n"
     ]
    },
    {
     "name": "stdout",
     "output_type": "stream",
     "text": [
      "BLASTOFF!\nFinished 'countdown' in 1.0079 secs\nFinished 'countdown' in 2.0132 secs\nFinished 'countdown' in 3.0182 secs\nFinished 'countdown' in 4.0201 secs\n"
     ]
    }
   ],
   "source": [
    "from utilities.decorators import repeat, timer, debug, slow_down\n",
    "\n",
    "@timer\n",
    "@slow_down\n",
    "def countdown(n):\n",
    "    if n < 1:\n",
    "        print('BLASTOFF!')\n",
    "    else:\n",
    "        print(n)\n",
    "        countdown(n-1)\n",
    "        \n",
    "countdown(3)"
   ]
  },
  {
   "cell_type": "code",
   "execution_count": 4,
   "metadata": {},
   "outputs": [
    {
     "name": "stdout",
     "output_type": "stream",
     "text": [
      "Calling say_hello()\n"
     ]
    },
    {
     "name": "stdout",
     "output_type": "stream",
     "text": [
      "SUP\n"
     ]
    },
    {
     "name": "stdout",
     "output_type": "stream",
     "text": [
      "SUP\n"
     ]
    },
    {
     "name": "stdout",
     "output_type": "stream",
     "text": [
      "SUP\n'say_hello' returned None\nFinished 'say_hello' in 3.0057 secs\n"
     ]
    }
   ],
   "source": [
    "@timer\n",
    "@debug\n",
    "@repeat(num_times=3)\n",
    "@slow_down(num_secs=1)\n",
    "def say_hello():\n",
    "    print('SUP')\n",
    "    \n",
    "say_hello()"
   ]
  },
  {
   "cell_type": "code",
   "execution_count": 1,
   "metadata": {},
   "outputs": [
    {
     "name": "stdout",
     "output_type": "stream",
     "text": [
      "hey\n\r1.67%      ETA 16:08:17      time left: 0 seconds       "
     ]
    },
    {
     "name": "stdout",
     "output_type": "stream",
     "text": [
      "\r3.33%      ETA 16:08:20      time left: 3 seconds       "
     ]
    },
    {
     "name": "stdout",
     "output_type": "stream",
     "text": [
      "\r5.00%      ETA 16:08:21      time left: 4 seconds       "
     ]
    },
    {
     "name": "stdout",
     "output_type": "stream",
     "text": [
      "\r6.67%      ETA 16:08:22      time left: 4 seconds       "
     ]
    },
    {
     "name": "stdout",
     "output_type": "stream",
     "text": [
      "\r8.33%      ETA 16:08:22      time left: 5 seconds       "
     ]
    },
    {
     "name": "stdout",
     "output_type": "stream",
     "text": [
      "\r10.00%      ETA 16:08:22      time left: 5 seconds       "
     ]
    },
    {
     "name": "stdout",
     "output_type": "stream",
     "text": [
      "\r11.67%      ETA 16:08:22      time left: 5 seconds       "
     ]
    },
    {
     "name": "stdout",
     "output_type": "stream",
     "text": [
      "\r13.33%      ETA 16:08:23      time left: 5 seconds       "
     ]
    },
    {
     "name": "stdout",
     "output_type": "stream",
     "text": [
      "\r15.00%      ETA 16:08:23      time left: 5 seconds       "
     ]
    },
    {
     "name": "stdout",
     "output_type": "stream",
     "text": [
      "\r16.67%      ETA 16:08:23      time left: 5 seconds       "
     ]
    },
    {
     "name": "stdout",
     "output_type": "stream",
     "text": [
      "\r18.33%      ETA 16:08:23      time left: 5 seconds       "
     ]
    },
    {
     "name": "stdout",
     "output_type": "stream",
     "text": [
      "\r20.00%      ETA 16:08:23      time left: 5 seconds       "
     ]
    },
    {
     "name": "stdout",
     "output_type": "stream",
     "text": [
      "\r21.67%      ETA 16:08:23      time left: 5 seconds       "
     ]
    },
    {
     "name": "stdout",
     "output_type": "stream",
     "text": [
      "\r23.33%      ETA 16:08:23      time left: 4 seconds       "
     ]
    },
    {
     "name": "stdout",
     "output_type": "stream",
     "text": [
      "\r25.00%      ETA 16:08:23      time left: 4 seconds       "
     ]
    },
    {
     "name": "stdout",
     "output_type": "stream",
     "text": [
      "\r26.67%      ETA 16:08:23      time left: 4 seconds       "
     ]
    },
    {
     "name": "stdout",
     "output_type": "stream",
     "text": [
      "\r28.33%      ETA 16:08:23      time left: 4 seconds       "
     ]
    },
    {
     "name": "stdout",
     "output_type": "stream",
     "text": [
      "\r30.00%      ETA 16:08:23      time left: 4 seconds       "
     ]
    },
    {
     "name": "stdout",
     "output_type": "stream",
     "text": [
      "\r31.67%      ETA 16:08:23      time left: 4 seconds       "
     ]
    },
    {
     "name": "stdout",
     "output_type": "stream",
     "text": [
      "\r33.33%      ETA 16:08:23      time left: 4 seconds       "
     ]
    },
    {
     "name": "stdout",
     "output_type": "stream",
     "text": [
      "\r35.00%      ETA 16:08:23      time left: 4 seconds       "
     ]
    },
    {
     "name": "stdout",
     "output_type": "stream",
     "text": [
      "\r36.67%      ETA 16:08:23      time left: 4 seconds       "
     ]
    },
    {
     "name": "stdout",
     "output_type": "stream",
     "text": [
      "\r38.33%      ETA 16:08:23      time left: 4 seconds       "
     ]
    },
    {
     "name": "stdout",
     "output_type": "stream",
     "text": [
      "\r40.00%      ETA 16:08:23      time left: 4 seconds       "
     ]
    },
    {
     "name": "stdout",
     "output_type": "stream",
     "text": [
      "\r41.67%      ETA 16:08:23      time left: 4 seconds       "
     ]
    },
    {
     "name": "stdout",
     "output_type": "stream",
     "text": [
      "\r43.33%      ETA 16:08:23      time left: 3 seconds       "
     ]
    },
    {
     "name": "stdout",
     "output_type": "stream",
     "text": [
      "\r45.00%      ETA 16:08:23      time left: 3 seconds       "
     ]
    },
    {
     "name": "stdout",
     "output_type": "stream",
     "text": [
      "\r46.67%      ETA 16:08:23      time left: 3 seconds       "
     ]
    },
    {
     "name": "stdout",
     "output_type": "stream",
     "text": [
      "\r48.33%      ETA 16:08:23      time left: 3 seconds       "
     ]
    },
    {
     "name": "stdout",
     "output_type": "stream",
     "text": [
      "\r50.00%      ETA 16:08:23      time left: 3 seconds       "
     ]
    },
    {
     "name": "stdout",
     "output_type": "stream",
     "text": [
      "\r51.67%      ETA 16:08:23      time left: 3 seconds       "
     ]
    },
    {
     "name": "stdout",
     "output_type": "stream",
     "text": [
      "\r53.33%      ETA 16:08:23      time left: 3 seconds       "
     ]
    },
    {
     "name": "stdout",
     "output_type": "stream",
     "text": [
      "\r55.00%      ETA 16:08:23      time left: 3 seconds       "
     ]
    },
    {
     "name": "stdout",
     "output_type": "stream",
     "text": [
      "\r56.67%      ETA 16:08:23      time left: 3 seconds       "
     ]
    },
    {
     "name": "stdout",
     "output_type": "stream",
     "text": [
      "\r58.33%      ETA 16:08:23      time left: 3 seconds       "
     ]
    },
    {
     "name": "stdout",
     "output_type": "stream",
     "text": [
      "\r60.00%      ETA 16:08:23      time left: 2 seconds       "
     ]
    },
    {
     "name": "stdout",
     "output_type": "stream",
     "text": [
      "\r61.67%      ETA 16:08:23      time left: 2 seconds       "
     ]
    },
    {
     "name": "stdout",
     "output_type": "stream",
     "text": [
      "\r63.33%      ETA 16:08:23      time left: 2 seconds       "
     ]
    },
    {
     "name": "stdout",
     "output_type": "stream",
     "text": [
      "\r65.00%      ETA 16:08:23      time left: 2 seconds       "
     ]
    },
    {
     "name": "stdout",
     "output_type": "stream",
     "text": [
      "\r66.67%      ETA 16:08:23      time left: 2 seconds       "
     ]
    },
    {
     "name": "stdout",
     "output_type": "stream",
     "text": [
      "\r68.33%      ETA 16:08:23      time left: 2 seconds       "
     ]
    },
    {
     "name": "stdout",
     "output_type": "stream",
     "text": [
      "\r70.00%      ETA 16:08:23      time left: 2 seconds       "
     ]
    },
    {
     "name": "stdout",
     "output_type": "stream",
     "text": [
      "\r71.67%      ETA 16:08:23      time left: 2 seconds       "
     ]
    },
    {
     "name": "stdout",
     "output_type": "stream",
     "text": [
      "\r73.33%      ETA 16:08:23      time left: 2 seconds       "
     ]
    },
    {
     "name": "stdout",
     "output_type": "stream",
     "text": [
      "\r75.00%      ETA 16:08:23      time left: 2 seconds       "
     ]
    },
    {
     "name": "stdout",
     "output_type": "stream",
     "text": [
      "\r76.67%      ETA 16:08:23      time left: 1 seconds       "
     ]
    },
    {
     "name": "stdout",
     "output_type": "stream",
     "text": [
      "\r78.33%      ETA 16:08:23      time left: 1 seconds       "
     ]
    },
    {
     "name": "stdout",
     "output_type": "stream",
     "text": [
      "\r80.00%      ETA 16:08:23      time left: 1 seconds       "
     ]
    },
    {
     "name": "stdout",
     "output_type": "stream",
     "text": [
      "\r81.67%      ETA 16:08:23      time left: 1 seconds       "
     ]
    },
    {
     "name": "stdout",
     "output_type": "stream",
     "text": [
      "\r83.33%      ETA 16:08:23      time left: 1 seconds       "
     ]
    },
    {
     "name": "stdout",
     "output_type": "stream",
     "text": [
      "\r85.00%      ETA 16:08:23      time left: 1 seconds       "
     ]
    },
    {
     "name": "stdout",
     "output_type": "stream",
     "text": [
      "\r86.67%      ETA 16:08:23      time left: 1 seconds       "
     ]
    },
    {
     "name": "stdout",
     "output_type": "stream",
     "text": [
      "\r88.33%      ETA 16:08:23      time left: 1 seconds       "
     ]
    },
    {
     "name": "stdout",
     "output_type": "stream",
     "text": [
      "\r90.00%      ETA 16:08:23      time left: 1 seconds       "
     ]
    },
    {
     "name": "stdout",
     "output_type": "stream",
     "text": [
      "\r91.67%      ETA 16:08:23      time left: 1 seconds       "
     ]
    },
    {
     "name": "stdout",
     "output_type": "stream",
     "text": [
      "\r93.33%      ETA 16:08:23      time left: 0 seconds       "
     ]
    },
    {
     "name": "stdout",
     "output_type": "stream",
     "text": [
      "\r95.00%      ETA 16:08:23      time left: 0 seconds       "
     ]
    },
    {
     "name": "stdout",
     "output_type": "stream",
     "text": [
      "\r96.67%      ETA 16:08:23      time left: 0 seconds       "
     ]
    },
    {
     "name": "stdout",
     "output_type": "stream",
     "text": [
      "\r98.33%      ETA 16:08:23      time left: 0 seconds       "
     ]
    },
    {
     "name": "stdout",
     "output_type": "stream",
     "text": [
      "\r100.00%      ETA 16:08:23      time left: 0 seconds       "
     ]
    },
    {
     "name": "stdout",
     "output_type": "stream",
     "text": [
      "\n"
     ]
    },
    {
     "name": "stdout",
     "output_type": "stream",
     "text": [
      "done\n"
     ]
    }
   ],
   "source": [
    "import time\n",
    "import numpy as np\n",
    "from utilities.loop_timer import LoopTimer\n",
    "\n",
    "print('hey')\n",
    "some_iterable = np.arange(60)\n",
    "lt = LoopTimer(len(some_iterable))\n",
    "for i in some_iterable:\n",
    "    lt.update()\n",
    "    time.sleep(0.1)\n",
    "print('done')"
   ]
  },
  {
   "cell_type": "code",
   "execution_count": 3,
   "metadata": {},
   "outputs": [
    {
     "name": "stdout",
     "output_type": "stream",
     "text": [
      "hey\n\nbye\n"
     ]
    }
   ],
   "source": [
    "print('hey')\n",
    "print('')\n",
    "print('bye')"
   ]
  },
  {
   "cell_type": "code",
   "execution_count": null,
   "metadata": {},
   "outputs": [],
   "source": []
  }
 ],
 "metadata": {
  "kernelspec": {
   "display_name": "Python 2",
   "language": "python",
   "name": "python2"
  },
  "language_info": {
   "codemirror_mode": {
    "name": "ipython",
    "version": 2
   },
   "file_extension": ".py",
   "mimetype": "text/x-python",
   "name": "python",
   "nbconvert_exporter": "python",
   "pygments_lexer": "ipython2",
   "version": "2.7.6"
  }
 },
 "nbformat": 4,
 "nbformat_minor": 0
}
